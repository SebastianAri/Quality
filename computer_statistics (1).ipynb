{
  "nbformat": 4,
  "nbformat_minor": 0,
  "metadata": {
    "colab": {
      "provenance": []
    },
    "kernelspec": {
      "name": "python3",
      "display_name": "Python 3"
    },
    "language_info": {
      "name": "python"
    }
  },
  "cells": [
    {
      "cell_type": "code",
      "source": [
        "import time\n",
        "import math\n",
        "\n",
        "def read_file(file_path):\n",
        "    \"\"\"\n",
        "    Read the file and return a list of numbers.\n",
        "    \"\"\"\n",
        "    data = []\n",
        "    try:\n",
        "        with open(file_path, 'r', encoding='utf-8') as file:\n",
        "            for line_num, line in enumerate(file, start=1):\n",
        "                try:\n",
        "                    number = float(line.strip())\n",
        "                    data.append(number)\n",
        "                except ValueError:\n",
        "                    print(f\"Warning: Invalid data at line \\\n",
        "                    {line_num}: '{line}'\")\n",
        "    except FileNotFoundError:\n",
        "        print(f\"Error: File '{file_path}' not found.\")\n",
        "        return []\n",
        "    except PermissionError:\n",
        "        print(f\"Error: Permission denied for file \\\n",
        "        '{file_path}'.\")\n",
        "        return []\n",
        "    # Consider catching more specific exceptions if you\n",
        "    #have other known possible errors\n",
        "\n",
        "    return data\n",
        "\n",
        "def compute_descriptive_statistics(data):\n",
        "    \"\"\"\n",
        "    Compute descriptive statistics and return the results.\n",
        "    \"\"\"\n",
        "    if not data:\n",
        "        return None, None, None, None, None\n",
        "    mean = sum(data) / len(data)\n",
        "    sorted_data = sorted(data)\n",
        "    n = len(sorted_data)\n",
        "    median = (sorted_data[n // 2 - 1] + sorted_data[n // 2])\\\n",
        "     / 2 if n % 2 == 0 else sorted_data[n // 2]\n",
        "    frequency = {}\n",
        "    for num in data:\n",
        "        frequency[num] = frequency.get(num, 0) + 1\n",
        "    mode = [k for k, v in frequency.items() \\\n",
        "            if v == max(frequency.values())]\n",
        "    mode = mode[0] if mode else None\n",
        "    variance = sum((x - mean) ** 2 for x in data) / len(data)\n",
        "    standard_deviation = math.sqrt(variance)\n",
        "    return mean, median, mode, standard_deviation, variance\n",
        "\n",
        "def print_and_save_results(results, elapsed_time):\n",
        "    \"\"\"\n",
        "    Print and save the descriptive statistics along\n",
        "    with the elapsed time.\n",
        "    \"\"\"\n",
        "    mean, median, mode, standard_deviation, variance = results\n",
        "\n",
        "    print(\"Descriptive Statistics:\")\n",
        "    print(f\"Mean: {mean}\")\n",
        "    print(f\"Median: {median}\")\n",
        "    print(f\"Mode: {mode}\")\n",
        "    print(f\"Standard Deviation: {standard_deviation}\")\n",
        "    print(f\"Variance: {variance}\")\n",
        "    print(f\"Time Elapsed: {elapsed_time} seconds\")\n",
        "\n",
        "    with open('StatisticsResults.txt', 'w', encoding='utf-8')\\\n",
        "     as result_file:\n",
        "        result_file.write(\"Descriptive Statistics:\\n\")\n",
        "        result_file.write(f\"Mean: {mean}\\n\")\n",
        "        result_file.write(f\"Median: {median}\\n\")\n",
        "        result_file.write(f\"Mode: {mode}\\n\")\n",
        "        result_file.write(f\"Standard Deviation: \\\n",
        "        {standard_deviation}\\n\")\n",
        "        result_file.write(f\"Variance: {variance}\\n\")\n",
        "        result_file.write(f\"Time Elapsed: {elapsed_time} seconds\\n\")\n",
        "\n",
        "def main(file_name):\n",
        "    \"\"\"\n",
        "    Main function to compute descriptive statistics.\n",
        "    Assumes file_name is in the current working directory\n",
        "    or provides a full path.\n",
        "    \"\"\"\n",
        "    # If file_name is not a full path, this will look for it in the\n",
        "    #current working directory\n",
        "    file_path = file_name\n",
        "\n",
        "    start_time = time.time()\n",
        "\n",
        "    data = read_file(file_path)\n",
        "    if not data:\n",
        "        return\n",
        "\n",
        "    elapsed_time = time.time() - start_time\n",
        "\n",
        "    results = compute_descriptive_statistics(data)\n",
        "    print_and_save_results(results, elapsed_time)"
      ],
      "metadata": {
        "id": "aJ1Qgd3EmvTa"
      },
      "execution_count": null,
      "outputs": []
    },
    {
      "cell_type": "code",
      "source": [
        "main('TC1.txt')"
      ],
      "metadata": {
        "colab": {
          "base_uri": "https://localhost:8080/"
        },
        "id": "REUfNwFZnM_q",
        "outputId": "3bcc9e5b-d9ae-4a6d-eb38-a0c945d3180d"
      },
      "execution_count": null,
      "outputs": [
        {
          "output_type": "stream",
          "name": "stdout",
          "text": [
            "Descriptive Statistics:\n",
            "Mean: 242.32\n",
            "Median: 239.5\n",
            "Mode: 393.0\n",
            "Standard Deviation: 145.25810683056557\n",
            "Variance: 21099.917599999997\n",
            "Time Elapsed: 0.0016527175903320312 seconds\n"
          ]
        }
      ]
    },
    {
      "cell_type": "code",
      "source": [
        "main('TC2.txt')"
      ],
      "metadata": {
        "colab": {
          "base_uri": "https://localhost:8080/"
        },
        "id": "jedlE1vNn3ea",
        "outputId": "ca002325-3a44-4488-ab1a-8f9b2a5f5964"
      },
      "execution_count": null,
      "outputs": [
        {
          "output_type": "stream",
          "name": "stdout",
          "text": [
            "Descriptive Statistics:\n",
            "Mean: 250.7840161861406\n",
            "Median: 247.0\n",
            "Mode: 230.0\n",
            "Standard Deviation: 144.17131868884059\n",
            "Variance: 20785.369132479238\n",
            "Time Elapsed: 0.0025501251220703125 seconds\n"
          ]
        }
      ]
    },
    {
      "cell_type": "code",
      "source": [
        "main('TC3.txt')"
      ],
      "metadata": {
        "colab": {
          "base_uri": "https://localhost:8080/"
        },
        "id": "W6Bbwt3voE_1",
        "outputId": "1c072966-39af-49a2-900c-9f42f2edec8b"
      },
      "execution_count": null,
      "outputs": [
        {
          "output_type": "stream",
          "name": "stdout",
          "text": [
            "Descriptive Statistics:\n",
            "Mean: 249.77621989860583\n",
            "Median: 249.0\n",
            "Mode: 94.0\n",
            "Standard Deviation: 145.31784980917962\n",
            "Variance: 21117.27747316329\n",
            "Time Elapsed: 0.00987696647644043 seconds\n"
          ]
        }
      ]
    },
    {
      "cell_type": "code",
      "source": [
        "main('TC4.txt')"
      ],
      "metadata": {
        "colab": {
          "base_uri": "https://localhost:8080/"
        },
        "id": "mIhIz_rWoGa0",
        "outputId": "643a72d8-4bfa-4720-9b37-81872371b0e0"
      },
      "execution_count": null,
      "outputs": [
        {
          "output_type": "stream",
          "name": "stdout",
          "text": [
            "Descriptive Statistics:\n",
            "Mean: 149.00267347908746\n",
            "Median: 147.75\n",
            "Mode: 123.75\n",
            "Standard Deviation: 130.41441961308894\n",
            "Variance: 17007.920843018837\n",
            "Time Elapsed: 0.007901668548583984 seconds\n"
          ]
        }
      ]
    },
    {
      "cell_type": "code",
      "source": [
        "main('TC5.txt')"
      ],
      "metadata": {
        "colab": {
          "base_uri": "https://localhost:8080/"
        },
        "id": "AZEpsrMxoHnd",
        "outputId": "d77fe5a9-e825-4e85-b0ee-73555803021a"
      },
      "execution_count": null,
      "outputs": [
        {
          "output_type": "stream",
          "name": "stdout",
          "text": [
            "Warning: Invalid data at line                     5: 'ABA\n",
            "'\n",
            "Warning: Invalid data at line                     155: '23,45\n",
            "'\n",
            "Warning: Invalid data at line                     232: '11;54\n",
            "'\n",
            "Warning: Invalid data at line                     239: 'll\n",
            "'\n",
            "Descriptive Statistics:\n",
            "Mean: 241.49511400651465\n",
            "Median: 241.0\n",
            "Mode: 393.0\n",
            "Standard Deviation: 145.46484786056646\n",
            "Variance: 21160.021963097748\n",
            "Time Elapsed: 0.002599000930786133 seconds\n"
          ]
        }
      ]
    },
    {
      "cell_type": "code",
      "source": [
        "main('TC6.txt')"
      ],
      "metadata": {
        "colab": {
          "base_uri": "https://localhost:8080/"
        },
        "id": "qR5AJlFfoIuv",
        "outputId": "47156db7-cb2a-4cf4-981c-4c39e41ada23"
      },
      "execution_count": null,
      "outputs": [
        {
          "output_type": "stream",
          "name": "stdout",
          "text": [
            "Descriptive Statistics:\n",
            "Mean: 1.8790659927977473e+20\n",
            "Median: 1.88008049965543e+20\n",
            "Mode: 1.27620004531949e+20\n",
            "Standard Deviation: 1.0738205017381e+20\n",
            "Variance: 1.1530904699530647e+40\n",
            "Time Elapsed: 0.0021708011627197266 seconds\n"
          ]
        }
      ]
    },
    {
      "cell_type": "code",
      "source": [
        "main('TC7.txt')\n",
        "\n",
        "# pylint: disable=C0304"
      ],
      "metadata": {
        "colab": {
          "base_uri": "https://localhost:8080/"
        },
        "id": "5ObGifP_oRZ3",
        "outputId": "bb39f802-35d5-4559-de92-7fe9a2948ad3"
      },
      "execution_count": null,
      "outputs": [
        {
          "output_type": "stream",
          "name": "stdout",
          "text": [
            "Warning: Invalid data at line                     183: 'ABBA\n",
            "'\n",
            "Warning: Invalid data at line                     229: 'ERROR\n",
            "'\n",
            "Descriptive Statistics:\n",
            "Mean: 2.474673954997149e+20\n",
            "Median: 2.4664097307429e+20\n",
            "Mode: 1.57638329490099e+20\n",
            "Standard Deviation: 1.4460564700984703e+20\n",
            "Variance: 2.0910793147136484e+40\n",
            "Time Elapsed: 0.009905815124511719 seconds\n"
          ]
        }
      ]
    }
  ]
}