{
  "nbformat": 4,
  "nbformat_minor": 0,
  "metadata": {
    "colab": {
      "provenance": []
    },
    "kernelspec": {
      "name": "python3",
      "display_name": "Python 3"
    },
    "language_info": {
      "name": "python"
    }
  },
  "cells": [
    {
      "cell_type": "code",
      "source": [
        "import json\n",
        "import time\n",
        "from difflib import SequenceMatcher\n",
        "\n",
        "\n",
        "def load_json_file(filename):\n",
        "    \"\"\"\n",
        "    Load JSON data from a file.\n",
        "    \"\"\"\n",
        "    try:\n",
        "        with open(filename, 'r', encoding='utf-8') as file:\n",
        "            data = json.load(file)\n",
        "        return data\n",
        "    except FileNotFoundError:\n",
        "        print(f\"Error: File '{filename}' not found.\")\n",
        "        return {}\n",
        "    except json.JSONDecodeError:\n",
        "        print(f\"Error: Invalid JSON format in '{filename}'.\")\n",
        "        return {}\n",
        "\n",
        "\n",
        "def similar(a, b):\n",
        "    \"\"\"\n",
        "    Calculate the similarity ratio between two strings.\n",
        "    \"\"\"\n",
        "    return SequenceMatcher(None, a, b).ratio()\n",
        "\n",
        "\n",
        "def compute_total_cost(price_catalogue, sales_record):\n",
        "    \"\"\"\n",
        "    Compute the total cost of sales.\n",
        "    \"\"\"\n",
        "    total_cost = 0\n",
        "    for sale in sales_record:\n",
        "        product_name = sale[\"Product\"]\n",
        "        match_found = False\n",
        "        for catalog_product in price_catalogue:\n",
        "            similarity = similar(product_name, catalog_product[\"title\"])\n",
        "            if similarity >= 0.9:\n",
        "                price = catalog_product[\"price\"]\n",
        "                quantity = sale[\"Quantity\"]\n",
        "                total_cost += price * quantity\n",
        "                match_found = True\n",
        "                break\n",
        "        if not match_found:\n",
        "            print(f\"Warning: No match found for product '\\\n",
        "            {product_name}' in price catalogue.\")\n",
        "    return total_cost\n",
        "\n",
        "\n",
        "def main(sales_record_file, price_catalogue_file='TC1.ProductList.json'):\n",
        "    \"\"\"\n",
        "    Main function to compute total sales cost.\n",
        "    \"\"\"\n",
        "    start_time = time.time()\n",
        "\n",
        "    price_catalogue = load_json_file(price_catalogue_file)\n",
        "    sales_record = load_json_file(sales_record_file)\n",
        "\n",
        "    total_cost = compute_total_cost(price_catalogue, sales_record)\n",
        "\n",
        "    end_time = time.time()\n",
        "    elapsed_time = end_time - start_time\n",
        "\n",
        "    print(f\"Total cost of sales: ${total_cost:.2f}\")\n",
        "    print(f\"Time elapsed: {elapsed_time:.2f} seconds\")\n",
        "\n",
        "    with open(\"SalesResults.txt\", \"w\", encoding='utf-8') as results_file:\n",
        "        results_file.write(f\"Total cost of sales: ${total_cost:.2f}\\n\")\n",
        "        results_file.write(f\"Time elapsed: {elapsed_time:.2f} seconds\\n\")\n"
      ],
      "metadata": {
        "id": "w4P8kyBjhlMW"
      },
      "execution_count": 1,
      "outputs": []
    },
    {
      "cell_type": "code",
      "source": [
        "main('TC1.Sales.json')"
      ],
      "metadata": {
        "colab": {
          "base_uri": "https://localhost:8080/"
        },
        "id": "5jyxDrf-hnfz",
        "outputId": "aab373ff-3c4c-466e-a732-f3d48a750405"
      },
      "execution_count": 7,
      "outputs": [
        {
          "output_type": "stream",
          "name": "stdout",
          "text": [
            "Total cost of sales: $2481.86\n",
            "Time elapsed: 0.05 seconds\n",
            "Total cost of sales: $166568.23\n",
            "Time elapsed: 0.04 seconds\n"
          ]
        }
      ]
    },
    {
      "cell_type": "code",
      "source": [
        "main('TC2.Sales.json')"
      ],
      "metadata": {
        "id": "e1QgtGkohudt",
        "outputId": "1b2f278c-5e18-41c6-97ac-e95a382c1a00",
        "colab": {
          "base_uri": "https://localhost:8080/"
        }
      },
      "execution_count": 3,
      "outputs": [
        {
          "output_type": "stream",
          "name": "stdout",
          "text": [
            "Total cost of sales: $166568.23\n",
            "Time elapsed: 0.09 seconds\n"
          ]
        }
      ]
    },
    {
      "cell_type": "code",
      "source": [
        "main('TC3.Sales.json')"
      ],
      "metadata": {
        "id": "opsSZMDehvlh",
        "outputId": "bec2f9a3-a305-42ec-8737-1ac52ea1bb96",
        "colab": {
          "base_uri": "https://localhost:8080/"
        }
      },
      "execution_count": 4,
      "outputs": [
        {
          "output_type": "stream",
          "name": "stdout",
          "text": [
            "Warning: No match found for product '            Elotes' in price catalogue.\n",
            "Warning: No match found for product '            Frijoles' in price catalogue.\n",
            "Total cost of sales: $165235.37\n",
            "Time elapsed: 0.10 seconds\n"
          ]
        }
      ]
    },
    {
      "cell_type": "code",
      "source": [
        "# pylint: disable = C0304\n"
      ],
      "metadata": {
        "id": "jWTNVO9lhxRn"
      },
      "execution_count": 5,
      "outputs": []
    }
  ]
}